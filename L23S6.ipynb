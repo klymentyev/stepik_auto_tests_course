{
 "cells": [
  {
   "cell_type": "code",
   "execution_count": 5,
   "id": "1593638d",
   "metadata": {},
   "outputs": [
    {
     "name": "stderr",
     "output_type": "stream",
     "text": [
      "C:\\Users\\User\\AppData\\Local\\Temp/ipykernel_19068/2901155348.py:13: DeprecationWarning: find_element_by_* commands are deprecated. Please use find_element() instead\n",
      "  browser.find_element_by_tag_name(\"button\").click()\n",
      "C:\\Users\\User\\AppData\\Local\\Temp/ipykernel_19068/2901155348.py:23: DeprecationWarning: find_element_by_* commands are deprecated. Please use find_element() instead\n",
      "  button = browser.find_element_by_tag_name(\"button\")\n"
     ]
    }
   ],
   "source": [
    "import math\n",
    "from selenium import webdriver\n",
    "from selenium.webdriver.common.by import By\n",
    "import time\n",
    "\n",
    "def calc(x):\n",
    "    return str(math.log(abs(12*math.sin(int(x)))))\n",
    "\n",
    "\n",
    "try:\n",
    "    browser = webdriver.Chrome()\n",
    "    browser.get('http://suninjuly.github.io/redirect_accept.html')\n",
    "    browser.find_element_by_tag_name(\"button\").click()\n",
    "\n",
    "    browser.switch_to.window(browser.window_handles[1])\n",
    "    \n",
    "    x_element = browser.find_element(By.CSS_SELECTOR, '#input_value')\n",
    "    x = x_element.text\n",
    "    y = calc(x)\n",
    "    \n",
    "    import1 = browser.find_element(By.CSS_SELECTOR, '#answer')\n",
    "    import1.send_keys(y)\n",
    "    button = browser.find_element_by_tag_name(\"button\")\n",
    "\n",
    "    button.click()\n",
    "    \n",
    "finally:\n",
    "    time.sleep(5)\n",
    "    browser.quit()"
   ]
  },
  {
   "cell_type": "code",
   "execution_count": null,
   "id": "b97db3e6",
   "metadata": {},
   "outputs": [],
   "source": []
  }
 ],
 "metadata": {
  "kernelspec": {
   "display_name": "Python 3 (ipykernel)",
   "language": "python",
   "name": "python3"
  },
  "language_info": {
   "codemirror_mode": {
    "name": "ipython",
    "version": 3
   },
   "file_extension": ".py",
   "mimetype": "text/x-python",
   "name": "python",
   "nbconvert_exporter": "python",
   "pygments_lexer": "ipython3",
   "version": "3.9.7"
  }
 },
 "nbformat": 4,
 "nbformat_minor": 5
}
