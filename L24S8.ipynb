{
 "cells": [
  {
   "cell_type": "code",
   "execution_count": 5,
   "id": "e0c61a89",
   "metadata": {},
   "outputs": [],
   "source": [
    "import math\n",
    "from selenium import webdriver\n",
    "from selenium.webdriver.common.by import By\n",
    "from selenium.webdriver.support.ui import WebDriverWait\n",
    "from selenium.webdriver.support import expected_conditions as EC\n",
    "import time\n",
    "\n",
    "def calc(x):\n",
    "    return str(math.log(abs(12*math.sin(int(x)))))\n",
    "\n",
    "\n",
    "try:\n",
    "    browser = webdriver.Chrome()\n",
    "    browser.get('http://suninjuly.github.io/explicit_wait2.html')\n",
    "    WebDriverWait(browser, 12).until(\n",
    "        EC.text_to_be_present_in_element((By.ID, \"price\"), \"$100\")\n",
    "    )\n",
    "    \n",
    "    browser.find_element(By.CSS_SELECTOR, '#book').click()\n",
    "    \n",
    "    \n",
    "    x_element = browser.find_element(By.CSS_SELECTOR, '#input_value')\n",
    "    x = x_element.text\n",
    "    y = calc(x)\n",
    "    \n",
    "    import1 = browser.find_element(By.CSS_SELECTOR, '#answer')\n",
    "    import1.send_keys(y)\n",
    "    button = browser.find_element(By.CSS_SELECTOR, '#solve')\n",
    "\n",
    "    button.click()\n",
    "    \n",
    "finally:\n",
    "    time.sleep(5)\n",
    "    browser.quit()"
   ]
  },
  {
   "cell_type": "code",
   "execution_count": null,
   "id": "0447327f",
   "metadata": {},
   "outputs": [],
   "source": []
  }
 ],
 "metadata": {
  "kernelspec": {
   "display_name": "Python 3 (ipykernel)",
   "language": "python",
   "name": "python3"
  },
  "language_info": {
   "codemirror_mode": {
    "name": "ipython",
    "version": 3
   },
   "file_extension": ".py",
   "mimetype": "text/x-python",
   "name": "python",
   "nbconvert_exporter": "python",
   "pygments_lexer": "ipython3",
   "version": "3.9.7"
  }
 },
 "nbformat": 4,
 "nbformat_minor": 5
}
