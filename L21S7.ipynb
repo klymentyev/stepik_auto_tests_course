{
 "cells": [
  {
   "cell_type": "code",
   "execution_count": 8,
   "id": "c54ef050",
   "metadata": {},
   "outputs": [],
   "source": [
    "import math\n",
    "from selenium import webdriver\n",
    "from selenium.webdriver.common.by import By\n",
    "import time\n",
    "\n",
    "def calc(x):\n",
    "    return str(math.log(abs(12*math.sin(int(x)))))\n",
    "\n",
    "\n",
    "try:\n",
    "    browser = webdriver.Chrome()\n",
    "    browser.get('http://suninjuly.github.io/get_attribute.html')\n",
    "    x_element = browser.find_element(By.CSS_SELECTOR, 'img')\n",
    "    x = x_element.get_attribute('valuex')\n",
    "    y = calc(x)\n",
    "    \n",
    "    import1 = browser.find_element(By.CSS_SELECTOR, '#answer')\n",
    "    import1.send_keys(y)\n",
    "    browser.find_element(By.CSS_SELECTOR, '#robotCheckbox').click()\n",
    "    browser.find_element(By.CSS_SELECTOR, '#robotsRule').click()\n",
    "    browser.find_element(By.CSS_SELECTOR, 'button').click()\n",
    "    \n",
    "finally:\n",
    "    time.sleep(5)\n",
    "    browser.quit()"
   ]
  },
  {
   "cell_type": "code",
   "execution_count": null,
   "id": "2f41226d",
   "metadata": {},
   "outputs": [],
   "source": []
  }
 ],
 "metadata": {
  "kernelspec": {
   "display_name": "Python 3 (ipykernel)",
   "language": "python",
   "name": "python3"
  },
  "language_info": {
   "codemirror_mode": {
    "name": "ipython",
    "version": 3
   },
   "file_extension": ".py",
   "mimetype": "text/x-python",
   "name": "python",
   "nbconvert_exporter": "python",
   "pygments_lexer": "ipython3",
   "version": "3.9.7"
  }
 },
 "nbformat": 4,
 "nbformat_minor": 5
}
