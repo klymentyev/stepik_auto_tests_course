{
 "cells": [
  {
   "cell_type": "code",
   "execution_count": 3,
   "id": "7bd448c1",
   "metadata": {},
   "outputs": [],
   "source": [
    "import math\n",
    "from selenium import webdriver\n",
    "from selenium.webdriver.common.by import By\n",
    "from selenium.webdriver.support.ui import Select\n",
    "import time\n",
    "\n",
    "\n",
    "try:\n",
    "    browser = webdriver.Chrome()\n",
    "    browser.get('http://suninjuly.github.io/selects1.html')\n",
    "    x_element = browser.find_element(By.CSS_SELECTOR, '#num1')\n",
    "    x = int(x_element.text)\n",
    "    y_element = browser.find_element(By.CSS_SELECTOR, '#num2')\n",
    "    y = int(y_element.text)\n",
    "    select = Select(browser.find_element(By.TAG_NAME, \"select\"))\n",
    "    select.select_by_visible_text(str(x+y)) \n",
    "    \n",
    "    browser.find_element(By.CSS_SELECTOR, 'button').click()\n",
    "    \n",
    "finally:\n",
    "    time.sleep(5)\n",
    "    browser.quit()"
   ]
  },
  {
   "cell_type": "code",
   "execution_count": null,
   "id": "659cfb87",
   "metadata": {},
   "outputs": [],
   "source": []
  }
 ],
 "metadata": {
  "kernelspec": {
   "display_name": "Python 3 (ipykernel)",
   "language": "python",
   "name": "python3"
  },
  "language_info": {
   "codemirror_mode": {
    "name": "ipython",
    "version": 3
   },
   "file_extension": ".py",
   "mimetype": "text/x-python",
   "name": "python",
   "nbconvert_exporter": "python",
   "pygments_lexer": "ipython3",
   "version": "3.9.7"
  }
 },
 "nbformat": 4,
 "nbformat_minor": 5
}
