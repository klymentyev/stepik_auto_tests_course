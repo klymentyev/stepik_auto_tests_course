{
 "cells": [
  {
   "cell_type": "code",
   "execution_count": 5,
   "id": "70908041",
   "metadata": {},
   "outputs": [],
   "source": [
    "from selenium import webdriver\n",
    "from selenium.webdriver.common.by import By\n",
    "import time\n",
    "import os\n",
    "\n",
    "\n",
    "try:\n",
    "    browser = webdriver.Chrome()\n",
    "    browser.get(\"http://suninjuly.github.io/file_input.html\")\n",
    "    elements = browser.find_elements(By.CSS_SELECTOR, \"div.form-group input\")\n",
    "    for element in elements:\n",
    "        element.send_keys(\"Мой ответ\")\n",
    "\n",
    "    file = browser.find_element(By.CSS_SELECTOR, '#file')\n",
    "    current_dir = os.path.abspath(os.path.dirname('L22S8.ipynb'))    # получаем путь к директории текущего исполняемого файла \n",
    "    file_path = os.path.join(current_dir, 'file2.txt')           # добавляем к этому пути имя файла \n",
    "    file.send_keys(file_path)    \n",
    "        \n",
    "    button = browser.find_element(By.CSS_SELECTOR, \"button.btn\")\n",
    "    button.click()\n",
    "\n",
    "finally:\n",
    "    # успеваем скопировать код за 30 секунд\n",
    "    time.sleep(7)\n",
    "    # закрываем браузер после всех манипуляций\n",
    "    browser.quit()\n"
   ]
  },
  {
   "cell_type": "code",
   "execution_count": null,
   "id": "41f1b71b",
   "metadata": {},
   "outputs": [],
   "source": []
  }
 ],
 "metadata": {
  "kernelspec": {
   "display_name": "Python 3 (ipykernel)",
   "language": "python",
   "name": "python3"
  },
  "language_info": {
   "codemirror_mode": {
    "name": "ipython",
    "version": 3
   },
   "file_extension": ".py",
   "mimetype": "text/x-python",
   "name": "python",
   "nbconvert_exporter": "python",
   "pygments_lexer": "ipython3",
   "version": "3.9.7"
  }
 },
 "nbformat": 4,
 "nbformat_minor": 5
}
