{
 "cells": [
  {
   "cell_type": "code",
   "execution_count": 10,
   "id": "dd9d0853",
   "metadata": {},
   "outputs": [],
   "source": [
    "from selenium import webdriver\n",
    "from selenium.webdriver.common.by import By\n",
    "import time\n",
    "\n",
    "try: \n",
    "    link = \"http://suninjuly.github.io/registration2.html\"\n",
    "    browser = webdriver.Chrome()\n",
    "    browser.get(link)\n",
    "\n",
    "    # Ваш код, который заполняет обязательные поля\n",
    "    input1 = browser.find_elements(By.CSS_SELECTOR, '[placeholder=\"Input your first name\"]')\n",
    "    input1.send_keys(\"Ivan\")\n",
    "    input2 = browser.find_element(By.CSS_SELECTOR, '[placeholder=\"Input your last name\"]')\n",
    "    input2.send_keys(\"Petrov\")\n",
    "    input3 = browser.find_element(By.CSS_SELECTOR, '[placeholder=\"Input your email\"]')\n",
    "    input3.send_keys(\"Smolensk\")\n",
    "\n",
    "    # Отправляем заполненную форму\n",
    "    button = browser.find_element(By.CSS_SELECTOR, \"button.btn\")\n",
    "    button.click()\n",
    "\n",
    "    # Проверяем, что смогли зарегистрироваться\n",
    "    # ждем загрузки страницы\n",
    "    time.sleep(1)\n",
    "\n",
    "    # находим элемент, содержащий текст\n",
    "    welcome_text_elt = browser.find_element(By.TAG_NAME, \"h1\")\n",
    "    # записываем в переменную welcome_text текст из элемента welcome_text_elt\n",
    "    welcome_text = welcome_text_elt.text\n",
    "\n",
    "    # с помощью assert проверяем, что ожидаемый текст совпадает с текстом на странице сайта\n",
    "    assert \"Congratulations! You have successfully registered!\" == welcome_text\n",
    "\n",
    "finally:\n",
    "    # ожидание чтобы визуально оценить результаты прохождения скрипта\n",
    "    time.sleep(10)\n",
    "    # закрываем браузер после всех манипуляций\n",
    "    browser.quit()\n",
    "    "
   ]
  },
  {
   "cell_type": "code",
   "execution_count": null,
   "id": "eab1087d",
   "metadata": {},
   "outputs": [],
   "source": []
  }
 ],
 "metadata": {
  "kernelspec": {
   "display_name": "Python 3 (ipykernel)",
   "language": "python",
   "name": "python3"
  },
  "language_info": {
   "codemirror_mode": {
    "name": "ipython",
    "version": 3
   },
   "file_extension": ".py",
   "mimetype": "text/x-python",
   "name": "python",
   "nbconvert_exporter": "python",
   "pygments_lexer": "ipython3",
   "version": "3.9.7"
  }
 },
 "nbformat": 4,
 "nbformat_minor": 5
}
