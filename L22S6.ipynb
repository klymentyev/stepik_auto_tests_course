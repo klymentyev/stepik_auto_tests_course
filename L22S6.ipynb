{
 "cells": [
  {
   "cell_type": "code",
   "execution_count": 3,
   "id": "bf8100c9",
   "metadata": {},
   "outputs": [
    {
     "name": "stderr",
     "output_type": "stream",
     "text": [
      "C:\\Users\\User\\AppData\\Local\\Temp/ipykernel_5812/3956411440.py:19: DeprecationWarning: find_element_by_* commands are deprecated. Please use find_element() instead\n",
      "  button = browser.find_element_by_tag_name(\"button\")\n"
     ]
    }
   ],
   "source": [
    "import math\n",
    "from selenium import webdriver\n",
    "from selenium.webdriver.common.by import By\n",
    "import time\n",
    "\n",
    "def calc(x):\n",
    "    return str(math.log(abs(12*math.sin(int(x)))))\n",
    "\n",
    "\n",
    "try:\n",
    "    browser = webdriver.Chrome()\n",
    "    browser.get('http://suninjuly.github.io/execute_script.html')\n",
    "    x_element = browser.find_element(By.CSS_SELECTOR, '#input_value')\n",
    "    x = x_element.text\n",
    "    y = calc(x)\n",
    "    \n",
    "    import1 = browser.find_element(By.CSS_SELECTOR, '#answer')\n",
    "    import1.send_keys(y)\n",
    "    button = browser.find_element_by_tag_name(\"button\")\n",
    "    browser.execute_script(\"return arguments[0].scrollIntoView(true);\", button)\n",
    "    browser.find_element(By.CSS_SELECTOR, '#robotCheckbox').click()\n",
    "    browser.find_element(By.CSS_SELECTOR, '#robotsRule').click()\n",
    "    button.click()\n",
    "    \n",
    "finally:\n",
    "    time.sleep(5)\n",
    "    browser.quit()"
   ]
  },
  {
   "cell_type": "code",
   "execution_count": null,
   "id": "e3778945",
   "metadata": {},
   "outputs": [],
   "source": []
  }
 ],
 "metadata": {
  "kernelspec": {
   "display_name": "Python 3 (ipykernel)",
   "language": "python",
   "name": "python3"
  },
  "language_info": {
   "codemirror_mode": {
    "name": "ipython",
    "version": 3
   },
   "file_extension": ".py",
   "mimetype": "text/x-python",
   "name": "python",
   "nbconvert_exporter": "python",
   "pygments_lexer": "ipython3",
   "version": "3.9.7"
  }
 },
 "nbformat": 4,
 "nbformat_minor": 5
}
