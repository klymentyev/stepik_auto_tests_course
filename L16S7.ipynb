{
 "cells": [
  {
   "cell_type": "code",
   "execution_count": 1,
   "id": "58e8c5a7",
   "metadata": {},
   "outputs": [],
   "source": [
    "from selenium import webdriver\n",
    "from selenium.webdriver.common.by import By\n",
    "import time\n",
    "\n",
    "try:\n",
    "    browser = webdriver.Chrome()\n",
    "    browser.get(\"http://suninjuly.github.io/huge_form.html\")\n",
    "    elements = browser.find_elements(By.CSS_SELECTOR, \"input\")\n",
    "    for element in elements:\n",
    "        element.send_keys(\"Мой ответ\")\n",
    "\n",
    "    button = browser.find_element(By.CSS_SELECTOR, \"button.btn\")\n",
    "    button.click()\n",
    "\n",
    "finally:\n",
    "    # успеваем скопировать код за 30 секунд\n",
    "    time.sleep(30)\n",
    "    # закрываем браузер после всех манипуляций\n",
    "    browser.quit()\n"
   ]
  },
  {
   "cell_type": "code",
   "execution_count": null,
   "id": "89dfde7c",
   "metadata": {},
   "outputs": [],
   "source": []
  }
 ],
 "metadata": {
  "kernelspec": {
   "display_name": "Python 3 (ipykernel)",
   "language": "python",
   "name": "python3"
  },
  "language_info": {
   "codemirror_mode": {
    "name": "ipython",
    "version": 3
   },
   "file_extension": ".py",
   "mimetype": "text/x-python",
   "name": "python",
   "nbconvert_exporter": "python",
   "pygments_lexer": "ipython3",
   "version": "3.9.7"
  }
 },
 "nbformat": 4,
 "nbformat_minor": 5
}
